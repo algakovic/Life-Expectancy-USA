{
 "cells": [
  {
   "cell_type": "markdown",
   "metadata": {},
   "source": [
    "# Module 4 Project\n",
    "### Khairul Omar, Stuti Singh & Aleksandar Gavokic"
   ]
  },
  {
   "cell_type": "markdown",
   "metadata": {},
   "source": [
    "# Executive summary"
   ]
  },
  {
   "cell_type": "markdown",
   "metadata": {},
   "source": [
    "Insert executive summary here"
   ]
  },
  {
   "cell_type": "markdown",
   "metadata": {},
   "source": [
    "# 1. Data import"
   ]
  },
  {
   "cell_type": "code",
   "execution_count": 1,
   "metadata": {},
   "outputs": [],
   "source": [
    "# Import general libraries\n",
    "import pandas as pd\n",
    "pd.set_option('display.max_rows', 540)\n",
    "import numpy as np\n",
    "import matplotlib.pyplot as plt\n",
    "%matplotlib inline\n",
    "import seaborn as sns\n",
    "from textwrap import wrap\n",
    "import warnings\n",
    "warnings.filterwarnings('ignore')\n",
    "# Import modelling libraries\n",
    "import scipy.stats as stats\n",
    "from itertools import combinations\n",
    "from sklearn.preprocessing import StandardScaler, scale, Normalizer, PolynomialFeatures, MinMaxScaler\n",
    "from sklearn.linear_model import LinearRegression, Lasso, Ridge, LassoCV, LassoLarsCV, LassoLarsIC\n",
    "from sklearn.model_selection import cross_val_score, KFold, train_test_split\n",
    "from sklearn.metrics import mean_squared_error"
   ]
  },
  {
   "cell_type": "code",
   "execution_count": 2,
   "metadata": {},
   "outputs": [
    {
     "data": {
      "text/plain": [
       "(3193, 534)"
      ]
     },
     "metadata": {},
     "output_type": "display_data"
    },
    {
     "data": {
      "text/html": [
       "<div>\n",
       "<style scoped>\n",
       "    .dataframe tbody tr th:only-of-type {\n",
       "        vertical-align: middle;\n",
       "    }\n",
       "\n",
       "    .dataframe tbody tr th {\n",
       "        vertical-align: top;\n",
       "    }\n",
       "\n",
       "    .dataframe thead th {\n",
       "        text-align: right;\n",
       "    }\n",
       "</style>\n",
       "<table border=\"1\" class=\"dataframe\">\n",
       "  <thead>\n",
       "    <tr style=\"text-align: right;\">\n",
       "      <th></th>\n",
       "      <th>State FIPS Code</th>\n",
       "      <th>County FIPS Code</th>\n",
       "      <th>5-digit FIPS Code</th>\n",
       "      <th>State Abbreviation</th>\n",
       "      <th>Name</th>\n",
       "      <th>Release Year</th>\n",
       "      <th>County Ranked (Yes=1/No=0)</th>\n",
       "      <th>Premature death raw value</th>\n",
       "      <th>Premature death numerator</th>\n",
       "      <th>Premature death denominator</th>\n",
       "      <th>...</th>\n",
       "      <th>Male population 18-44 raw value</th>\n",
       "      <th>Male population 45-64 raw value</th>\n",
       "      <th>Male population 65+ raw value</th>\n",
       "      <th>Total male population raw value</th>\n",
       "      <th>Female population 0-17 raw value</th>\n",
       "      <th>Female population 18-44 raw value</th>\n",
       "      <th>Female population 45-64 raw value</th>\n",
       "      <th>Female population 65+ raw value</th>\n",
       "      <th>Total female population raw value</th>\n",
       "      <th>Population growth raw value</th>\n",
       "    </tr>\n",
       "  </thead>\n",
       "  <tbody>\n",
       "    <tr>\n",
       "      <td>0</td>\n",
       "      <td>1</td>\n",
       "      <td>0</td>\n",
       "      <td>1000</td>\n",
       "      <td>AL</td>\n",
       "      <td>Alabama</td>\n",
       "      <td>2019</td>\n",
       "      <td>NaN</td>\n",
       "      <td>9917.232898</td>\n",
       "      <td>80440.0</td>\n",
       "      <td>13636816.0</td>\n",
       "      <td>...</td>\n",
       "      <td>NaN</td>\n",
       "      <td>NaN</td>\n",
       "      <td>NaN</td>\n",
       "      <td>NaN</td>\n",
       "      <td>NaN</td>\n",
       "      <td>NaN</td>\n",
       "      <td>NaN</td>\n",
       "      <td>NaN</td>\n",
       "      <td>NaN</td>\n",
       "      <td>NaN</td>\n",
       "    </tr>\n",
       "    <tr>\n",
       "      <td>1</td>\n",
       "      <td>1</td>\n",
       "      <td>1</td>\n",
       "      <td>1001</td>\n",
       "      <td>AL</td>\n",
       "      <td>Autauga County</td>\n",
       "      <td>2019</td>\n",
       "      <td>1.0</td>\n",
       "      <td>8824.057123</td>\n",
       "      <td>815.0</td>\n",
       "      <td>156132.0</td>\n",
       "      <td>...</td>\n",
       "      <td>NaN</td>\n",
       "      <td>NaN</td>\n",
       "      <td>NaN</td>\n",
       "      <td>NaN</td>\n",
       "      <td>NaN</td>\n",
       "      <td>NaN</td>\n",
       "      <td>NaN</td>\n",
       "      <td>NaN</td>\n",
       "      <td>NaN</td>\n",
       "      <td>NaN</td>\n",
       "    </tr>\n",
       "    <tr>\n",
       "      <td>2</td>\n",
       "      <td>1</td>\n",
       "      <td>3</td>\n",
       "      <td>1003</td>\n",
       "      <td>AL</td>\n",
       "      <td>Baldwin County</td>\n",
       "      <td>2019</td>\n",
       "      <td>1.0</td>\n",
       "      <td>7224.632160</td>\n",
       "      <td>2827.0</td>\n",
       "      <td>576496.0</td>\n",
       "      <td>...</td>\n",
       "      <td>NaN</td>\n",
       "      <td>NaN</td>\n",
       "      <td>NaN</td>\n",
       "      <td>NaN</td>\n",
       "      <td>NaN</td>\n",
       "      <td>NaN</td>\n",
       "      <td>NaN</td>\n",
       "      <td>NaN</td>\n",
       "      <td>NaN</td>\n",
       "      <td>NaN</td>\n",
       "    </tr>\n",
       "    <tr>\n",
       "      <td>3</td>\n",
       "      <td>1</td>\n",
       "      <td>5</td>\n",
       "      <td>1005</td>\n",
       "      <td>AL</td>\n",
       "      <td>Barbour County</td>\n",
       "      <td>2019</td>\n",
       "      <td>1.0</td>\n",
       "      <td>9586.165037</td>\n",
       "      <td>451.0</td>\n",
       "      <td>72222.0</td>\n",
       "      <td>...</td>\n",
       "      <td>NaN</td>\n",
       "      <td>NaN</td>\n",
       "      <td>NaN</td>\n",
       "      <td>NaN</td>\n",
       "      <td>NaN</td>\n",
       "      <td>NaN</td>\n",
       "      <td>NaN</td>\n",
       "      <td>NaN</td>\n",
       "      <td>NaN</td>\n",
       "      <td>NaN</td>\n",
       "    </tr>\n",
       "    <tr>\n",
       "      <td>4</td>\n",
       "      <td>1</td>\n",
       "      <td>7</td>\n",
       "      <td>1007</td>\n",
       "      <td>AL</td>\n",
       "      <td>Bibb County</td>\n",
       "      <td>2019</td>\n",
       "      <td>1.0</td>\n",
       "      <td>11783.543675</td>\n",
       "      <td>445.0</td>\n",
       "      <td>63653.0</td>\n",
       "      <td>...</td>\n",
       "      <td>NaN</td>\n",
       "      <td>NaN</td>\n",
       "      <td>NaN</td>\n",
       "      <td>NaN</td>\n",
       "      <td>NaN</td>\n",
       "      <td>NaN</td>\n",
       "      <td>NaN</td>\n",
       "      <td>NaN</td>\n",
       "      <td>NaN</td>\n",
       "      <td>NaN</td>\n",
       "    </tr>\n",
       "  </tbody>\n",
       "</table>\n",
       "<p>5 rows × 534 columns</p>\n",
       "</div>"
      ],
      "text/plain": [
       "   State FIPS Code  County FIPS Code  5-digit FIPS Code State Abbreviation  \\\n",
       "0                1                 0               1000                 AL   \n",
       "1                1                 1               1001                 AL   \n",
       "2                1                 3               1003                 AL   \n",
       "3                1                 5               1005                 AL   \n",
       "4                1                 7               1007                 AL   \n",
       "\n",
       "             Name  Release Year  County Ranked (Yes=1/No=0)  \\\n",
       "0         Alabama          2019                         NaN   \n",
       "1  Autauga County          2019                         1.0   \n",
       "2  Baldwin County          2019                         1.0   \n",
       "3  Barbour County          2019                         1.0   \n",
       "4     Bibb County          2019                         1.0   \n",
       "\n",
       "   Premature death raw value  Premature death numerator  \\\n",
       "0                9917.232898                    80440.0   \n",
       "1                8824.057123                      815.0   \n",
       "2                7224.632160                     2827.0   \n",
       "3                9586.165037                      451.0   \n",
       "4               11783.543675                      445.0   \n",
       "\n",
       "   Premature death denominator  ...  Male population 18-44 raw value  \\\n",
       "0                   13636816.0  ...                              NaN   \n",
       "1                     156132.0  ...                              NaN   \n",
       "2                     576496.0  ...                              NaN   \n",
       "3                      72222.0  ...                              NaN   \n",
       "4                      63653.0  ...                              NaN   \n",
       "\n",
       "   Male population 45-64 raw value  Male population 65+ raw value  \\\n",
       "0                              NaN                            NaN   \n",
       "1                              NaN                            NaN   \n",
       "2                              NaN                            NaN   \n",
       "3                              NaN                            NaN   \n",
       "4                              NaN                            NaN   \n",
       "\n",
       "   Total male population raw value  Female population 0-17 raw value  \\\n",
       "0                              NaN                               NaN   \n",
       "1                              NaN                               NaN   \n",
       "2                              NaN                               NaN   \n",
       "3                              NaN                               NaN   \n",
       "4                              NaN                               NaN   \n",
       "\n",
       "   Female population 18-44 raw value  Female population 45-64 raw value  \\\n",
       "0                                NaN                                NaN   \n",
       "1                                NaN                                NaN   \n",
       "2                                NaN                                NaN   \n",
       "3                                NaN                                NaN   \n",
       "4                                NaN                                NaN   \n",
       "\n",
       "   Female population 65+ raw value  Total female population raw value  \\\n",
       "0                              NaN                                NaN   \n",
       "1                              NaN                                NaN   \n",
       "2                              NaN                                NaN   \n",
       "3                              NaN                                NaN   \n",
       "4                              NaN                                NaN   \n",
       "\n",
       "   Population growth raw value  \n",
       "0                          NaN  \n",
       "1                          NaN  \n",
       "2                          NaN  \n",
       "3                          NaN  \n",
       "4                          NaN  \n",
       "\n",
       "[5 rows x 534 columns]"
      ]
     },
     "metadata": {},
     "output_type": "display_data"
    }
   ],
   "source": [
    "# Import raw data\n",
    "raw = pd.read_csv('analytic_data2019.csv', skiprows=[1,2])\n",
    "display(raw.shape)\n",
    "display(raw.head())"
   ]
  },
  {
   "cell_type": "markdown",
   "metadata": {},
   "source": [
    "# 2. Data Cleansing"
   ]
  },
  {
   "cell_type": "code",
   "execution_count": 3,
   "metadata": {
    "scrolled": false
   },
   "outputs": [
    {
     "data": {
      "text/plain": [
       "(3142, 74)"
      ]
     },
     "metadata": {},
     "output_type": "display_data"
    }
   ],
   "source": [
    "# Remove unnecessary columns\n",
    "filter_out = ['numerator', 'denominator', 'CI low', 'CI high']\n",
    "df = raw.copy()\n",
    "for f in filter_out:\n",
    "    df = df.loc[:, ~df.columns.str.contains(f)]\n",
    "\n",
    "# Clean up column names\n",
    "replace_dict = {' raw value':'', ' - ':'_', '-':'_', '=':'', '/':'_',\n",
    "                '(':'', ')':'', '.':'', '+':' above', '%':'Percent', ' ':'_'}\n",
    "for key, value in replace_dict.items():\n",
    "    df.columns = df.columns.str.replace(key, value)\n",
    "\n",
    "# Drop column if data is > 20% null\n",
    "df = df.drop(df.loc[:,list((100*(df.isnull().sum()/len(df.index))>20))].columns, 1)\n",
    "\n",
    "# Replace NaN values with the state's median. If still missing, use national.\n",
    "df = df.groupby('State_Abbreviation').apply(lambda x: x.fillna(x.median()))\n",
    "df = df.fillna(df.median())\n",
    "\n",
    "# # Remove extreme life expenctancy values\n",
    "# df = df.drop(df[df.Life_expectancy>93].index)\n",
    "\n",
    "# Remove state-level data, keep only county-level data\n",
    "df = df.drop(df[df.County_FIPS_Code==0].index)\n",
    "\n",
    "# Assign a copy of df for graphical purposes\n",
    "df = df.reset_index(drop=True)\n",
    "df0 = df.copy()\n",
    "\n",
    "# Basis of df to use for modelling. Skip columns 0-6 which are non-numerical\n",
    "df = df.drop(df.iloc[:, 0:7], axis = 1)\n",
    "\n",
    "cols = list(df.columns)\n",
    "display(df.shape)"
   ]
  },
  {
   "cell_type": "markdown",
   "metadata": {},
   "source": [
    "# 3. Data Exploration (EDA)"
   ]
  },
  {
   "cell_type": "markdown",
   "metadata": {},
   "source": [
    "### 3.1 Overview of data via plots"
   ]
  },
  {
   "cell_type": "code",
   "execution_count": 4,
   "metadata": {
    "scrolled": false
   },
   "outputs": [],
   "source": [
    "# # Plot all cleansed columns using scatter plot & histogram\n",
    "# num_of_cols = df.shape[1]\n",
    "# num_of_plots_per_row = 8\n",
    "# num_of_sets = num_of_cols // (num_of_plots_per_row + 1)\n",
    "# k = 0\n",
    "# for r, s in enumerate(range(num_of_sets)):\n",
    "#     color = 'blue' if (r % 2) == 0 else 'red'\n",
    "#     x1 = k\n",
    "#     x2 = k + num_of_plots_per_row\n",
    "#     k = k + num_of_plots_per_row + 1\n",
    "#     r = r * 2\n",
    "#     dfplot = df.iloc[:, x1:x2]\n",
    "#     cols_to_plot = list(dfplot.columns)\n",
    "\n",
    "#     fig, axes = plt.subplots(nrows=2, ncols=len(cols_to_plot), figsize=(18,4))\n",
    "#     for n, xcol in enumerate(cols_to_plot):\n",
    "#         axes[0,n].set_title(\"\\n\".join(wrap(xcol, 25)), fontsize=9)\n",
    "#         axes[0,n].scatter(dfplot[xcol], df.Life_expectancy, color=color, s=2)\n",
    "#         axes[0,n].set_ylabel('Life expectancy', fontsize=8)\n",
    "#         axes[1,n].hist(dfplot[xcol], color=color)       \n",
    "#     plt.show()"
   ]
  },
  {
   "cell_type": "markdown",
   "metadata": {},
   "source": [
    "# 4. Feature Selection (Part 1): Evaluate predictors"
   ]
  },
  {
   "cell_type": "markdown",
   "metadata": {},
   "source": [
    "### 4.1 Split training and test data"
   ]
  },
  {
   "cell_type": "code",
   "execution_count": 5,
   "metadata": {},
   "outputs": [],
   "source": [
    "# Split parameters\n",
    "seed = 1\n",
    "test_size = 0.31 # to get test sample at least 1000\n",
    "\n",
    "# Split target and predictors\n",
    "y_all = df['Life_expectancy']\n",
    "x_all = df.drop('Life_expectancy', axis=1)\n",
    "\n",
    "# Split 80/20 for training/testing \n",
    "x_train, x_test, y_train, y_test = train_test_split(x_all, y_all, test_size=test_size, random_state=seed)\n",
    "\n",
    "# Assign training data\n",
    "scaler = MinMaxScaler()\n",
    "x_train = pd.DataFrame(scaler.fit_transform(x_train), columns=x_all.columns) # scale training data\n",
    "y_train = (pd.DataFrame(y_train)).reset_index(drop=True)\n",
    "dftrain = pd.concat([y_train, x_train], axis=1)"
   ]
  },
  {
   "cell_type": "markdown",
   "metadata": {},
   "source": [
    "### 4.1 Baseline : calculate k-fold cv with all predictors"
   ]
  },
  {
   "cell_type": "code",
   "execution_count": 6,
   "metadata": {},
   "outputs": [
    {
     "name": "stdout",
     "output_type": "stream",
     "text": [
      "No of predictors: 73\n",
      "kfold cv r-sq: 0.8909\n",
      "kfold cv MSE : 1.0496\n"
     ]
    }
   ],
   "source": [
    "# Cross validation using all columns\n",
    "regression = LinearRegression()\n",
    "crossvalidation = KFold(n_splits=5, shuffle=True, random_state=seed)\n",
    "baseline_rsq = np.mean(cross_val_score(regression, x_train, y_train, scoring='r2', cv=crossvalidation))\n",
    "baseline_mse = -np.mean(cross_val_score(regression, x_train, y_train, cv=5, scoring='neg_mean_squared_error'))\n",
    "print(f'No of predictors: {x_train.shape[1]}')\n",
    "print(f'kfold cv r-sq: {round(baseline_rsq,4)}')\n",
    "print(f'kfold cv MSE : {round(baseline_mse,4)}')"
   ]
  },
  {
   "cell_type": "markdown",
   "metadata": {},
   "source": [
    "### 4.2 Evaluate predictors (Step 1) : Correlation of predictors vs. target (Life expectancy)"
   ]
  },
  {
   "cell_type": "code",
   "execution_count": 7,
   "metadata": {
    "scrolled": false
   },
   "outputs": [
    {
     "name": "stdout",
     "output_type": "stream",
     "text": [
      "Top 20 Correlation between all predictors vs. Life expectancy:\n"
     ]
    },
    {
     "data": {
      "text/plain": [
       "[[0.933, 'Premature_age_adjusted_mortality'],\n",
       " [0.884, 'Premature_death'],\n",
       " [0.699, 'Adult_smoking'],\n",
       " [0.691, 'Frequent_mental_distress'],\n",
       " [0.669, 'Frequent_physical_distress'],\n",
       " [0.664, 'Poor_physical_health_days'],\n",
       " [0.655, 'Teen_births'],\n",
       " [0.641, 'Children_in_poverty'],\n",
       " [0.64, 'Diabetes_prevalence'],\n",
       " [0.634, 'Poor_mental_health_days'],\n",
       " [0.623, 'Poor_or_fair_health'],\n",
       " [0.615, 'Median_household_income'],\n",
       " [0.61, 'Physical_inactivity'],\n",
       " [0.608, 'Food_insecurity'],\n",
       " [0.538, 'Excessive_drinking'],\n",
       " [0.534, 'Children_eligible_for_free_or_reduced_price_lunch'],\n",
       " [0.532, 'Adult_obesity'],\n",
       " [0.532, 'Insufficient_sleep'],\n",
       " [0.527, 'Some_college'],\n",
       " [0.526, 'Injury_deaths']]"
      ]
     },
     "metadata": {},
     "output_type": "display_data"
    }
   ],
   "source": [
    "# Calculate correlation coeff with life expectancy for all predictors\n",
    "cols = list(dftrain.columns)\n",
    "corr_list = []\n",
    "\n",
    "for col in cols:    \n",
    "    corr = stats.pearsonr(dftrain[col], dftrain.Life_expectancy)    \n",
    "    corr_list.append([abs(round(corr[0],3)), col])\n",
    "\n",
    "# Show sorted list of columns and correlations between life expectancy vs. column and log(column)\n",
    "corr_list = sorted(corr_list, key=lambda i: i[0], reverse=True)\n",
    "k = 20\n",
    "print(f'Top {k} Correlation between all predictors vs. Life expectancy:')\n",
    "display(corr_list[1:k+1])"
   ]
  },
  {
   "cell_type": "code",
   "execution_count": 8,
   "metadata": {},
   "outputs": [
    {
     "name": "stdout",
     "output_type": "stream",
     "text": [
      "Top 15 strongest linear correlation with Life Expectancy:\n"
     ]
    },
    {
     "data": {
      "text/plain": [
       "['Adult_smoking',\n",
       " 'Frequent_mental_distress',\n",
       " 'Frequent_physical_distress',\n",
       " 'Poor_physical_health_days',\n",
       " 'Teen_births',\n",
       " 'Children_in_poverty',\n",
       " 'Diabetes_prevalence',\n",
       " 'Poor_mental_health_days',\n",
       " 'Poor_or_fair_health',\n",
       " 'Median_household_income',\n",
       " 'Physical_inactivity',\n",
       " 'Food_insecurity',\n",
       " 'Excessive_drinking',\n",
       " 'Children_eligible_for_free_or_reduced_price_lunch',\n",
       " 'Adult_obesity']"
      ]
     },
     "metadata": {},
     "output_type": "display_data"
    }
   ],
   "source": [
    "# Top strongest correlation with Life Expectancy, removing the first 3 which are not relevant:\n",
    "top_n = 15\n",
    "ignore_from = 3\n",
    "top_predictors = list(map(lambda x: x[1], corr_list[ignore_from:ignore_from+top_n]))\n",
    "print(f'Top {top_n} strongest linear correlation with Life Expectancy:')\n",
    "display(top_predictors)"
   ]
  },
  {
   "cell_type": "markdown",
   "metadata": {},
   "source": [
    "### 4.3 Evaluate predictors (Step 2) : Multicollinearity between all predictors"
   ]
  },
  {
   "cell_type": "code",
   "execution_count": 9,
   "metadata": {},
   "outputs": [
    {
     "name": "stdout",
     "output_type": "stream",
     "text": [
      "Correlation between predictors to avoid multicollinearity (0.8 cut-off):\n"
     ]
    },
    {
     "data": {
      "text/plain": [
       "[[0.982, 'Frequent_physical_distress', 'Poor_physical_health_days'],\n",
       " [0.955, 'Frequent_mental_distress', 'Frequent_physical_distress'],\n",
       " [0.954, 'Frequent_mental_distress', 'Poor_physical_health_days'],\n",
       " [0.953, 'Frequent_mental_distress', 'Poor_mental_health_days'],\n",
       " [0.93, 'Frequent_physical_distress', 'Poor_or_fair_health'],\n",
       " [0.918, 'Poor_physical_health_days', 'Poor_mental_health_days'],\n",
       " [0.88, 'Poor_physical_health_days', 'Poor_or_fair_health'],\n",
       " [0.875, 'Frequent_physical_distress', 'Poor_mental_health_days'],\n",
       " [0.844, 'Frequent_mental_distress', 'Poor_or_fair_health'],\n",
       " [0.831, 'Children_in_poverty', 'Poor_or_fair_health'],\n",
       " [0.824, 'Adult_smoking', 'Frequent_mental_distress'],\n",
       " [0.818, 'Adult_smoking', 'Frequent_physical_distress'],\n",
       " [0.817, 'Frequent_physical_distress', 'Children_in_poverty'],\n",
       " [0.809, 'Adult_smoking', 'Poor_physical_health_days']]"
      ]
     },
     "metadata": {},
     "output_type": "display_data"
    }
   ],
   "source": [
    "# Check correlation between top columns - to avoid multicollinearity\n",
    "combo1 = list(combinations(top_predictors, 2))\n",
    "corr_list1 = []\n",
    "for comb in combo1:\n",
    "    corr = stats.pearsonr(dftrain[comb[0]], dftrain[comb[1]])\n",
    "    corr_list1.append([abs(round(corr[0],3)), comb[0], comb[1]])  \n",
    "    \n",
    "# Show sorted list of columns and correlations between life expectancy vs. column and log(column)\n",
    "corr_list1 = sorted(corr_list1, key=lambda i: i[0], reverse=True)\n",
    "print('Correlation between predictors to avoid multicollinearity (0.8 cut-off):')\n",
    "display(list(filter(lambda i: i[0] > 0.8, corr_list1)))"
   ]
  },
  {
   "cell_type": "code",
   "execution_count": 10,
   "metadata": {},
   "outputs": [
    {
     "data": {
      "text/plain": [
       "11"
      ]
     },
     "execution_count": 10,
     "metadata": {},
     "output_type": "execute_result"
    }
   ],
   "source": [
    "# Drop top predictors based on multicollinearity etc:\n",
    "drop_list = ['Frequent_mental_distress', 'Frequent_physical_distress', 'Poor_physical_health_days',\n",
    "             'Children_eligible_for_free_or_reduced_price_lunch']\n",
    "top_predictors = [i for i in top_predictors if i not in drop_list]\n",
    "len(top_predictors)"
   ]
  },
  {
   "cell_type": "code",
   "execution_count": 11,
   "metadata": {},
   "outputs": [
    {
     "data": {
      "image/png": "[encoded data removed]",
      "text/plain": [
       "<Figure size 432x288 with 2 Axes>"
      ]
     },
     "metadata": {
      "needs_background": "light"
     },
     "output_type": "display_data"
    }
   ],
   "source": [
    "# Validate list via correlation heatmap between top predictors after drop:\n",
    "sns.heatmap(abs(df[top_predictors[:]].corr()), cmap=\"PiYG\", center=0)\n",
    "plt.show()"
   ]
  },
  {
   "cell_type": "markdown",
   "metadata": {},
   "source": [
    "### 4.4 Model 1 : using only top predictors"
   ]
  },
  {
   "cell_type": "code",
   "execution_count": 12,
   "metadata": {},
   "outputs": [
    {
     "name": "stdout",
     "output_type": "stream",
     "text": [
      "No of predictors: 11\n",
      "kfold cv r-sq: 0.6608\n",
      "kfold cv MSE : 3.1236\n"
     ]
    }
   ],
   "source": [
    "# Cross validation using top predictors only\n",
    "x_train = x_train[top_predictors[:]]\n",
    "\n",
    "regression = LinearRegression()\n",
    "crossvalidation = KFold(n_splits=5, shuffle=True, random_state=seed)\n",
    "model1_rsq = np.mean(cross_val_score(regression, x_train, y_train, scoring='r2', cv=crossvalidation))\n",
    "model1_mse = -np.mean(cross_val_score(regression, x_train, y_train, cv=5, scoring='neg_mean_squared_error'))\n",
    "print(f'No of predictors: {x_train.shape[1]}')\n",
    "print(f'kfold cv r-sq: {round(model1_rsq,4)}')\n",
    "print(f'kfold cv MSE : {round(model1_mse,4)}')"
   ]
  },
  {
   "cell_type": "markdown",
   "metadata": {},
   "source": [
    "### 4.5 Evaluate predictors (Step 3) : Interaction between top predictors"
   ]
  },
  {
   "cell_type": "code",
   "execution_count": 13,
   "metadata": {
    "scrolled": false
   },
   "outputs": [
    {
     "name": "stdout",
     "output_type": "stream",
     "text": [
      "Max value of r2: 0.665\n",
      "Min value of r2: 0.661\n",
      "Top 20 Interaction cross validation r2 between predictors:\n"
     ]
    },
    {
     "data": {
      "text/plain": [
       "[(0.665, 'Poor_or_fair_health', 'Physical_inactivity'),\n",
       " (0.664, 'Adult_smoking', 'Physical_inactivity'),\n",
       " (0.664, 'Diabetes_prevalence', 'Poor_mental_health_days'),\n",
       " (0.663, 'Children_in_poverty', 'Diabetes_prevalence'),\n",
       " (0.663, 'Children_in_poverty', 'Physical_inactivity'),\n",
       " (0.663, 'Diabetes_prevalence', 'Poor_or_fair_health'),\n",
       " (0.663, 'Diabetes_prevalence', 'Physical_inactivity'),\n",
       " (0.663, 'Poor_mental_health_days', 'Physical_inactivity'),\n",
       " (0.663, 'Poor_or_fair_health', 'Excessive_drinking'),\n",
       " (0.663, 'Median_household_income', 'Physical_inactivity'),\n",
       " (0.663, 'Physical_inactivity', 'Adult_obesity'),\n",
       " (0.662, 'Adult_smoking', 'Teen_births'),\n",
       " (0.662, 'Teen_births', 'Physical_inactivity'),\n",
       " (0.662, 'Children_in_poverty', 'Excessive_drinking'),\n",
       " (0.662, 'Diabetes_prevalence', 'Median_household_income'),\n",
       " (0.662, 'Diabetes_prevalence', 'Excessive_drinking'),\n",
       " (0.662, 'Diabetes_prevalence', 'Adult_obesity'),\n",
       " (0.662, 'Poor_mental_health_days', 'Excessive_drinking'),\n",
       " (0.662, 'Poor_mental_health_days', 'Adult_obesity'),\n",
       " (0.662, 'Poor_or_fair_health', 'Adult_obesity')]"
      ]
     },
     "metadata": {},
     "output_type": "display_data"
    }
   ],
   "source": [
    "# Check interactions between pairs of top predictors\n",
    "regression = LinearRegression()\n",
    "crossvalidation = KFold(n_splits=5, shuffle=True, random_state=seed)\n",
    "combo2 = list(combinations(x_train.columns, 2))\n",
    "interactions = []\n",
    "data = pd.DataFrame(scale(x_train), columns=x_train.columns)\n",
    "for comb in combo2:\n",
    "    data['interaction'] = data[comb[0]] * data[comb[1]]\n",
    "    score = np.mean(cross_val_score(regression, data, y_train, scoring='r2', cv=crossvalidation))\n",
    "    if score > model1_rsq: interactions.append((round(score, 3), comb[0], comb[1]))\n",
    "interactions = sorted(interactions, key=lambda i: i[0], reverse=True)\n",
    "k = 20\n",
    "print(f'Max value of r2: {max(interactions)[0]}')\n",
    "print(f'Min value of r2: {min(interactions)[0]}')\n",
    "print(f'Top {k} Interaction cross validation r2 between predictors:')\n",
    "display(interactions[:k])"
   ]
  },
  {
   "cell_type": "markdown",
   "metadata": {},
   "source": [
    "### 4.6 Evaluate predictors (Step 4): Polynomial terms"
   ]
  },
  {
   "cell_type": "code",
   "execution_count": 14,
   "metadata": {},
   "outputs": [
    {
     "name": "stdout",
     "output_type": "stream",
     "text": [
      "Top 20 r2 of polynomial terms for top predictors for degree=[2, 3]\n"
     ]
    },
    {
     "data": {
      "text/plain": [
       "[(0.663, 'Diabetes_prevalence', 2),\n",
       " (0.663, 'Diabetes_prevalence', 3),\n",
       " (0.663, 'Poor_mental_health_days', 3),\n",
       " (0.663, 'Physical_inactivity', 2),\n",
       " (0.663, 'Physical_inactivity', 3),\n",
       " (0.663, 'Adult_obesity', 2),\n",
       " (0.663, 'Adult_obesity', 3),\n",
       " (0.662, 'Adult_smoking', 3),\n",
       " (0.662, 'Poor_or_fair_health', 2),\n",
       " (0.662, 'Poor_or_fair_health', 3),\n",
       " (0.662, 'Excessive_drinking', 3),\n",
       " (0.661, 'Adult_smoking', 2),\n",
       " (0.661, 'Teen_births', 2),\n",
       " (0.661, 'Poor_mental_health_days', 2),\n",
       " (0.661, 'Median_household_income', 2),\n",
       " (0.661, 'Food_insecurity', 2),\n",
       " (0.661, 'Food_insecurity', 3),\n",
       " (0.661, 'Excessive_drinking', 2),\n",
       " (0.66, 'Teen_births', 3),\n",
       " (0.66, 'Children_in_poverty', 2)]"
      ]
     },
     "metadata": {},
     "output_type": "display_data"
    }
   ],
   "source": [
    "# Explore polynomial terms\n",
    "degrees = [2, 3]\n",
    "polynomials = []\n",
    "for col in x_train.columns:\n",
    "    for degree in degrees:\n",
    "        data = x_train.copy()\n",
    "        poly = PolynomialFeatures(degree, include_bias=False)\n",
    "        x_transformed = poly.fit_transform(x_train[[col]])\n",
    "        data = pd.concat([data.drop(col, axis=1),pd.DataFrame(x_transformed)], axis=1)\n",
    "        score = np.mean(cross_val_score(regression, data, y_train, scoring='r2', cv=crossvalidation))\n",
    "        polynomials.append((round(score, 3), col, degree))\n",
    "polynomials = sorted(polynomials, key=lambda i: i[0], reverse=True)\n",
    "k=20\n",
    "print(f'Top {k} r2 of polynomial terms for top predictors for degree={degrees}')\n",
    "display(polynomials[:20])\n",
    "# Show Top 20:"
   ]
  },
  {
   "cell_type": "markdown",
   "metadata": {},
   "source": [
    "### 4.7 Add top interaction terms and top polynomial terms into data frame"
   ]
  },
  {
   "cell_type": "code",
   "execution_count": 15,
   "metadata": {},
   "outputs": [
    {
     "data": {
      "text/plain": [
       "Index(['Adult_smoking', 'Teen_births', 'Children_in_poverty',\n",
       "       'Diabetes_prevalence', 'Poor_mental_health_days', 'Poor_or_fair_health',\n",
       "       'Median_household_income', 'Physical_inactivity', 'Food_insecurity',\n",
       "       'Excessive_drinking', 'Adult_obesity', 'Adult_obesity_power2',\n",
       "       'Adult_obesity_power3', 'Diabetes_prevalence_power2',\n",
       "       'Diabetes_prevalence_power3', 'Physical_inactivity_power2',\n",
       "       'Physical_inactivity_power3', 'Adult_smoking_AND_Adult_obesity',\n",
       "       'Physical_inactivity_AND_Adult_obesity'],\n",
       "      dtype='object')"
      ]
     },
     "execution_count": 15,
     "metadata": {},
     "output_type": "execute_result"
    }
   ],
   "source": [
    "# Polynomial terms: select columns with highest cv r2\n",
    "poly_columns = ['Adult_obesity', 'Diabetes_prevalence', 'Physical_inactivity']\n",
    "\n",
    "# Interaction terms: select pairs of columns with highest cv r2\n",
    "inter_columns = [['Adult_smoking', 'Adult_obesity'],['Physical_inactivity', 'Adult_obesity']]\n",
    "\n",
    "# Build new df with Polynomial terms\n",
    "dfpoly = pd.DataFrame()\n",
    "for col in poly_columns:\n",
    "    poly = PolynomialFeatures(3, include_bias=False)\n",
    "    x_transformed = poly.fit_transform(x_train[[col]])\n",
    "    colnames= [col, col + '_' + 'power2',  col + '_' + 'power3']\n",
    "    dfpoly = (pd.concat([dfpoly, pd.DataFrame(x_transformed, columns=colnames)], axis=1)).drop([col], axis=1)\n",
    "\n",
    "# Build new df with Interaction terms\n",
    "dfinter = pd.DataFrame()\n",
    "for col in inter_columns:\n",
    "    colname = f'{col[0]}_AND_{col[1]}'\n",
    "    dfinter[colname] = x_train[col[0]] * x_train[col[1]]\n",
    "    \n",
    "# Merge with all predictors\n",
    "df_shortlist = pd.concat([y_train, x_train, dfpoly, dfinter], axis=1)\n",
    "x_shortlist = df_shortlist.drop('Life_expectancy', axis=1)\n",
    "x_shortlist.columns"
   ]
  },
  {
   "cell_type": "markdown",
   "metadata": {},
   "source": [
    "# 5. Feature selection (Part 2) : finalize predictors"
   ]
  },
  {
   "cell_type": "markdown",
   "metadata": {},
   "source": [
    "### 5.1 Model 2 : use top predictors + top interactions + top polynomial terms"
   ]
  },
  {
   "cell_type": "code",
   "execution_count": 16,
   "metadata": {},
   "outputs": [
    {
     "name": "stdout",
     "output_type": "stream",
     "text": [
      "No of predictors: 19\n",
      "kfold cv r-sq: 0.6631\n",
      "kfold cv MSE : 3.0891\n"
     ]
    }
   ],
   "source": [
    "# Calculate new baseline with shortlisted columns, interactions and polynomial terms\n",
    "x_train = x_shortlist\n",
    "regression = LinearRegression()\n",
    "crossvalidation = KFold(n_splits=5, shuffle=True, random_state=seed)\n",
    "model2_rsq = np.mean(cross_val_score(regression, x_train, y_train, scoring='r2', cv=crossvalidation))\n",
    "model2_mse = -np.mean(cross_val_score(regression, x_train, y_train, cv=5, scoring='neg_mean_squared_error'))\n",
    "print(f'No of predictors: {x_train.shape[1]}')\n",
    "print(f'kfold cv r-sq: {round(model2_rsq,4)}')\n",
    "print(f'kfold cv MSE : {round(model2_mse,4)}')"
   ]
  },
  {
   "cell_type": "markdown",
   "metadata": {},
   "source": [
    "### 5.2 Determine strongest predictor terms (based on correlation)"
   ]
  },
  {
   "cell_type": "code",
   "execution_count": 17,
   "metadata": {},
   "outputs": [
    {
     "name": "stdout",
     "output_type": "stream",
     "text": [
      "Sorted correlation between all predictors vs. Life expectancy:\n"
     ]
    },
    {
     "data": {
      "text/plain": [
       "[[0.704, 'Adult_smoking_AND_Adult_obesity'],\n",
       " [0.699, 'Adult_smoking'],\n",
       " [0.655, 'Teen_births'],\n",
       " [0.641, 'Children_in_poverty'],\n",
       " [0.64, 'Diabetes_prevalence'],\n",
       " [0.634, 'Poor_mental_health_days'],\n",
       " [0.623, 'Poor_or_fair_health'],\n",
       " [0.62, 'Physical_inactivity_AND_Adult_obesity'],\n",
       " [0.616, 'Diabetes_prevalence_power2'],\n",
       " [0.615, 'Median_household_income'],\n",
       " [0.61, 'Physical_inactivity'],\n",
       " [0.608, 'Food_insecurity'],\n",
       " [0.588, 'Physical_inactivity_power2'],\n",
       " [0.573, 'Diabetes_prevalence_power3'],\n",
       " [0.549, 'Physical_inactivity_power3'],\n",
       " [0.538, 'Excessive_drinking'],\n",
       " [0.532, 'Adult_obesity'],\n",
       " [0.522, 'Adult_obesity_power2'],\n",
       " [0.502, 'Adult_obesity_power3']]"
      ]
     },
     "metadata": {},
     "output_type": "display_data"
    }
   ],
   "source": [
    "# Calculate correlation coeff with Life Expectancy:\n",
    "cols = list(df_shortlist.iloc[:, 1:].columns) # skip Life expectancy\n",
    "corr_list = []\n",
    "top_predictors = []\n",
    "\n",
    "for col in cols:    \n",
    "    # Correlation with x    \n",
    "    corr = stats.pearsonr(df_shortlist[col], df_shortlist.Life_expectancy)    \n",
    "    # Correlation with log x\n",
    "    transformer = Normalizer().fit([df_shortlist[col]])\n",
    "    t = transformer.transform([df_shortlist[col]])   \n",
    "    if df_shortlist[col].min() <= 0:\n",
    "        corrlog = 0\n",
    "    else:\n",
    "        corrlog = stats.pearsonr(np.log(t[0]), df_shortlist.Life_expectancy)[0]\n",
    "    # Output list\n",
    "    corr_list.append([abs(round(corr[0],3)), col])\n",
    "    top_predictors.append(col)\n",
    "\n",
    "# Show sorted list of columns and correlations between life expectancy vs. column and log(column)\n",
    "corr_list = sorted(corr_list, key=lambda i: i[0], reverse=True)\n",
    "print(f'Sorted correlation between all predictors vs. Life expectancy:')\n",
    "display(corr_list[:])"
   ]
  },
  {
   "cell_type": "markdown",
   "metadata": {},
   "source": [
    "### 5.3 Determine strongest predictor terms (based on standardized coefficient)"
   ]
  },
  {
   "cell_type": "code",
   "execution_count": 18,
   "metadata": {},
   "outputs": [
    {
     "data": {
      "text/plain": [
       "[[32.808, 'Positive', 'Adult_obesity_power2'],\n",
       " [18.414, 'Negative', 'Adult_obesity_power3'],\n",
       " [16.182, 'Negative', 'Adult_obesity'],\n",
       " [7.723, 'Negative', 'Teen_births'],\n",
       " [5.693, 'Positive', 'Poor_or_fair_health'],\n",
       " [4.914, 'Positive', 'Physical_inactivity_power2'],\n",
       " [4.813, 'Negative', 'Adult_smoking'],\n",
       " [4.543, 'Negative', 'Adult_smoking_AND_Adult_obesity'],\n",
       " [4.288, 'Negative', 'Physical_inactivity_AND_Adult_obesity'],\n",
       " [4.285, 'Negative', 'Food_insecurity'],\n",
       " [3.832, 'Negative', 'Physical_inactivity'],\n",
       " [3.125, 'Negative', 'Poor_mental_health_days'],\n",
       " [2.968, 'Negative', 'Diabetes_prevalence'],\n",
       " [1.72, 'Positive', 'Diabetes_prevalence_power3'],\n",
       " [1.419, 'Positive', 'Median_household_income'],\n",
       " [0.734, 'Positive', 'Excessive_drinking'],\n",
       " [0.376, 'Negative', 'Children_in_poverty'],\n",
       " [0.347, 'Negative', 'Physical_inactivity_power3'],\n",
       " [0.154, 'Negative', 'Diabetes_prevalence_power2']]"
      ]
     },
     "execution_count": 18,
     "metadata": {},
     "output_type": "execute_result"
    }
   ],
   "source": [
    "# Calculate coefficients\n",
    "linreg = LinearRegression()\n",
    "linreg.fit(x_train, y_train)\n",
    "coeff = linreg.coef_\n",
    "coeff_list = []\n",
    "for n, col in enumerate(cols):\n",
    "    coeff_list.append([abs(round(coeff[0][n],3)), 'Negative' if coeff[0][n] < 0 else 'Positive', col])\n",
    "coeff_list = sorted(coeff_list, key=lambda i: i[0], reverse=True)\n",
    "coeff_list"
   ]
  },
  {
   "cell_type": "markdown",
   "metadata": {},
   "source": [
    "# 6. Final model"
   ]
  },
  {
   "cell_type": "markdown",
   "metadata": {},
   "source": [
    "### 6.1 Prepare training and test data"
   ]
  },
  {
   "cell_type": "code",
   "execution_count": 19,
   "metadata": {},
   "outputs": [
    {
     "name": "stdout",
     "output_type": "stream",
     "text": [
      "x_train:(2167, 19), y_train:(2167, 1), x_test:(975, 19), y_test:(975, 1)\n"
     ]
    }
   ],
   "source": [
    "# Assign training data to the final choice of predictors\n",
    "x_train = x_shortlist\n",
    "\n",
    "# Assign test data (before processing)\n",
    "x_test_raw = pd.DataFrame(x_test, columns=x_all.columns)\n",
    "\n",
    "# Test data still has the same number of original columns.\n",
    "# Now reshape test data columns to match the final set of columns in train data:\n",
    "final_columns = list(x_train.columns)\n",
    "df_test = pd.DataFrame()\n",
    "for col in final_columns:\n",
    "    # Create interaction terms\n",
    "    if col.find('_AND_') != -1:\n",
    "        c = 1\n",
    "        inter1 = col[0:col.find('_AND_')]\n",
    "        inter2 = col[(-1)*(len(col)-5-len(inter1)):]\n",
    "        c = [inter1,inter2]\n",
    "        df_test[f'{inter1}_AND_{inter2}'] = x_test_raw[inter1] * x_test_raw[inter2]\n",
    "    # Create polynomial terms\n",
    "    elif col.find('_power') != -1:\n",
    "        polycol = col[:len(col)-7]\n",
    "        power = int(col[-1:])\n",
    "        c = [polycol, power]\n",
    "        df_test[f'{polycol}_power{power}'] = x_test_raw[polycol]      \n",
    "    # Original terms\n",
    "    else:\n",
    "        c = col\n",
    "        df_test[col] = x_test_raw[col]\n",
    "\n",
    "# Assign test data (after processing)\n",
    "scaler = MinMaxScaler()\n",
    "x_test = pd.DataFrame(scaler.fit_transform(df_test), columns=df_test.columns) # scale training data\n",
    "y_test = (pd.DataFrame(y_test)).reset_index(drop=True)\n",
    "\n",
    "# Double check data dimensions are the comparable\n",
    "print(f'x_train:{x_train.shape}, y_train:{y_train.shape}, x_test:{x_test.shape}, y_test:{y_test.shape}')"
   ]
  },
  {
   "cell_type": "markdown",
   "metadata": {},
   "source": [
    "### 6.2 Run final model with training and test data"
   ]
  },
  {
   "cell_type": "code",
   "execution_count": 20,
   "metadata": {},
   "outputs": [
    {
     "name": "stdout",
     "output_type": "stream",
     "text": [
      "Summary of r^2 improvements\n",
      "---------------------------\n",
      "1. Overfit using all predictors  : 0.8909\n",
      "2. Model 1 using strongest corr  : 0.6608\n",
      "3. Model 2 incl poly & interacts : 0.6631\n",
      "4. Model 3 (final) with Train set: 0.6715\n",
      "5. Model 3 (final) with Test set : 0.5051\n",
      "\n",
      "Summary of MSE improvements\n",
      "---------------------------\n",
      "1. Overfit using all predictors  : 1.0496\n",
      "2. Model 1 using strongest corr  : 3.1236\n",
      "3. Model 2 incl poly & interacts : 3.0891\n",
      "4. Model 3 (final) with Train set: 2.9984\n",
      "5. Model 3 (final) with Test set : 4.1015\n"
     ]
    }
   ],
   "source": [
    "# Run model with training and test data\n",
    "\n",
    "linreg = LinearRegression()\n",
    "linreg.fit(x_train, y_train)\n",
    "\n",
    "pred_train = linreg.predict(x_train)\n",
    "pred_test  = linreg.predict(x_test)\n",
    "\n",
    "final_train_rsq = linreg.score(x_train, y_train)\n",
    "final_test_rsq  = linreg.score(x_test, y_test)\n",
    "final_train_mse = mean_squared_error(y_train, pred_train)\n",
    "final_test_mse  = mean_squared_error(y_test, pred_test)\n",
    "\n",
    "print('Summary of r^2 improvements')\n",
    "print('---------------------------')\n",
    "print('1. Overfit using all predictors  :', round(baseline_rsq,4))\n",
    "print('2. Model 1 using strongest corr  :', round(model1_rsq,4))\n",
    "print('3. Model 2 incl poly & interacts :', round(model2_rsq,4))\n",
    "print('4. Model 3 (final) with Train set:', round(final_train_rsq,4))\n",
    "print('5. Model 3 (final) with Test set :', round(final_test_rsq,4))\n",
    "print('')\n",
    "print('Summary of MSE improvements')\n",
    "print('---------------------------')\n",
    "print('1. Overfit using all predictors  :', round(baseline_mse,4))\n",
    "print('2. Model 1 using strongest corr  :', round(model1_mse,4))\n",
    "print('3. Model 2 incl poly & interacts :', round(model2_mse,4))\n",
    "print('4. Model 3 (final) with Train set:', round(final_train_mse,4))\n",
    "print('5. Model 3 (final) with Test set :', round(final_test_mse,4))"
   ]
  },
  {
   "cell_type": "code",
   "execution_count": 21,
   "metadata": {},
   "outputs": [
    {
     "data": {
      "image/png": "[encoded data removed]",
      "text/plain": [
       "<Figure size 864x360 with 2 Axes>"
      ]
     },
     "metadata": {
      "needs_background": "light"
     },
     "output_type": "display_data"
    }
   ],
   "source": [
    "fig, axes = plt.subplots(nrows=1, ncols=2, figsize=(12,5))\n",
    "axes[0].scatter(y_train, pred_train, label='Model', color='blue', alpha=0.3)\n",
    "axes[0].plot(y_train, y_train, label='TRAIN data', color='blue')\n",
    "axes[1].scatter(y_test, pred_test, label='Model', color='red', alpha=0.3)\n",
    "axes[1].plot(y_test, y_test, label='TEST data', color='red')\n",
    "axes[0].set_xlim(65,100)\n",
    "axes[0].set_ylim(65,100)\n",
    "axes[1].set_xlim(65,100)\n",
    "axes[1].set_ylim(65,100)\n",
    "axes[0].set_ylabel('Life expectancy')\n",
    "axes[0].legend(loc='upper left')\n",
    "axes[1].legend(loc='upper left')\n",
    "axes[0].set_title(f'TRAIN data vs. Model \\n sample n={x_train.shape[0]}, r^2={round(final_train_rsq,3)}')\n",
    "axes[1].set_title(f'TEST data vs. Model \\n sample n={x_test.shape[0]}, r^2={round(final_test_rsq,3)}')\n",
    "plt.legend()\n",
    "plt.show()"
   ]
  },
  {
   "cell_type": "markdown",
   "metadata": {},
   "source": [
    "### 6.3 Employ regularization techniques using Ridge and Lasso"
   ]
  },
  {
   "cell_type": "code",
   "execution_count": 22,
   "metadata": {},
   "outputs": [
    {
     "name": "stdout",
     "output_type": "stream",
     "text": [
      "Optimal Alpha Value: 0\n"
     ]
    },
    {
     "data": {
      "image/png": "[encoded data removed]",
      "text/plain": [
       "<Figure size 432x288 with 1 Axes>"
      ]
     },
     "metadata": {
      "needs_background": "light"
     },
     "output_type": "display_data"
    }
   ],
   "source": [
    "# Find optimum alpha\n",
    "train_mse = []\n",
    "test_mse = []\n",
    "alphas = []\n",
    "for alpha in np.linspace(0, 10, num=20):\n",
    "    lasso = Lasso(alpha=alpha)\n",
    "    lasso.fit(x_train, y_train)\n",
    "    train_preds = lasso.predict(x_train)\n",
    "    train_mse.append(mean_squared_error(y_train, train_preds))\n",
    "    test_preds = lasso.predict(x_test)\n",
    "    test_mse.append(mean_squared_error(y_test, test_preds))\n",
    "    alphas.append(alpha)\n",
    "    \n",
    "# Plot optimal value\n",
    "fig, ax = plt.subplots()\n",
    "ax.plot(alphas, train_mse, label='Train')\n",
    "ax.plot(alphas, test_mse, label='Test')\n",
    "ax.set_xlabel('Alpha')\n",
    "ax.set_ylabel('MSE')\n",
    "ax.set_xlim(-1,3)\n",
    "\n",
    "# Generate optimum alpha\n",
    "optimal_alpha = alphas[np.argmin(test_mse)]\n",
    "ax.axvline(optimal_alpha, color='black', linestyle='--')\n",
    "ax.legend();\n",
    "print(f'Optimal Alpha Value: {int(optimal_alpha)}')"
   ]
  },
  {
   "cell_type": "code",
   "execution_count": 23,
   "metadata": {},
   "outputs": [
    {
     "name": "stdout",
     "output_type": "stream",
     "text": [
      "-----Lasso alpha=0.1-----\n"
     ]
    },
    {
     "data": {
      "text/plain": [
       "array([-0.        , -4.48370371, -0.        , -1.94726375, -3.90385406,\n",
       "       -0.        ,  0.        , -1.67692604, -0.45913004,  0.        ,\n",
       "       -0.        , -0.        , -0.        , -0.        , -0.        ,\n",
       "       -0.        , -0.        , -0.        , -0.        ])"
      ]
     },
     "metadata": {},
     "output_type": "display_data"
    },
    {
     "name": "stdout",
     "output_type": "stream",
     "text": [
      "------Ridge alpha=1------\n"
     ]
    },
    {
     "data": {
      "text/plain": [
       "array([[-4.93492837, -7.09579272, -0.47475012, -3.00362727, -2.92344204,\n",
       "         4.56852111,  1.52209605, -3.13494634, -4.10531236,  0.60978858,\n",
       "        -2.37295786,  0.87442044,  0.90748249,  0.04348588,  1.38198496,\n",
       "         0.3678175 ,  1.48090244, -2.92194386,  0.05533758]])"
      ]
     },
     "metadata": {},
     "output_type": "display_data"
    }
   ],
   "source": [
    "# Set penalty factors\n",
    "alpha_lasso = 0.1\n",
    "alpha_ridge = 1\n",
    "\n",
    "# Run Ridge and Lasso on train data\n",
    "lasso = Lasso(alpha_lasso)\n",
    "lasso.fit(x_train, y_train)\n",
    "print(f'-----Lasso alpha={alpha_lasso}-----')\n",
    "display(lasso.coef_)\n",
    "\n",
    "ridge = Ridge(alpha_ridge)\n",
    "ridge.fit(x_train, y_train)\n",
    "print(f'------Ridge alpha={alpha_ridge}------')\n",
    "display(ridge.coef_)"
   ]
  },
  {
   "cell_type": "code",
   "execution_count": 24,
   "metadata": {},
   "outputs": [],
   "source": [
    "# Calculate AIC BIC"
   ]
  },
  {
   "cell_type": "markdown",
   "metadata": {},
   "source": [
    "# 7. Conclusion\n",
    "\n",
    "Text here"
   ]
  },
  {
   "cell_type": "code",
   "execution_count": null,
   "metadata": {},
   "outputs": [],
   "source": []
  },
  {
   "cell_type": "code",
   "execution_count": null,
   "metadata": {},
   "outputs": [],
   "source": []
  }
 ],
 "metadata": {
  "kernelspec": {
   "display_name": "Python 3",
   "language": "python",
   "name": "python3"
  },
  "language_info": {
   "codemirror_mode": {
    "name": "ipython",
    "version": 3
   },
   "file_extension": ".py",
   "mimetype": "text/x-python",
   "name": "python",
   "nbconvert_exporter": "python",
   "pygments_lexer": "ipython3",
   "version": "3.7.4"
  }
 },
 "nbformat": 4,
 "nbformat_minor": 2
}
